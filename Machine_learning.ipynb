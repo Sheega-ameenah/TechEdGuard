{
  "nbformat": 4,
  "nbformat_minor": 0,
  "metadata": {
    "colab": {
      "provenance": [],
      "authorship_tag": "ABX9TyOpAhCrd1t3SRXDJKyXp0pt",
      "include_colab_link": true
    },
    "kernelspec": {
      "name": "python3",
      "display_name": "Python 3"
    },
    "language_info": {
      "name": "python"
    }
  },
  "cells": [
    {
      "cell_type": "markdown",
      "metadata": {
        "id": "view-in-github",
        "colab_type": "text"
      },
      "source": [
        "<a href=\"https://colab.research.google.com/github/Sheega-ameenah/TechEdGuard/blob/main/Machine_learning.ipynb\" target=\"_parent\"><img src=\"https://colab.research.google.com/assets/colab-badge.svg\" alt=\"Open In Colab\"/></a>"
      ]
    },
    {
      "cell_type": "markdown",
      "source": [
        "# **Machine Learning**\n",
        "\n",
        "- Machine Learning is making the computer learn from studying data and statistics.\n",
        "\n",
        "- Machine Learning is a step into the direction of artificial intelligence (AI).\n",
        "\n",
        "- Machine Learning is a program that analyses data and learns to predict the outcome."
      ],
      "metadata": {
        "id": "hg8qo8HXyDCa"
      }
    },
    {
      "cell_type": "markdown",
      "source": [
        "# Data Set\n",
        "\n",
        "In the mind of a computer, a data set is any collection of data. It can be anything from an array to a complete database.\n",
        "\n",
        "Machine Learning is for analyzing data and predicting the outcome!\n"
      ],
      "metadata": {
        "id": "OfCPmnKBytYJ"
      }
    },
    {
      "cell_type": "markdown",
      "source": [
        "# Data Types\n",
        "\n",
        "To analyze data, it is important to know what type of data we are dealing with.\n",
        "\n",
        "We can split the data types into three main categories:\n",
        "\n",
        "- **Numerical**\n",
        "- **Categorical**\n",
        "- **Ordinal**\n",
        "\n",
        "**Numerical** data are numbers, and can be split into two numerical categories:\n",
        "\n",
        "- Discrete Data :\n",
        "  numbers that are limited to integers. Example: The number of cars passing by.\n",
        "\n",
        "- Continuous Data: numbers that are of infinite value. Example: The price of an item, or the size of an item.\n",
        "\n",
        "\n",
        "**Categorical** data are values that cannot be measured up against each other. Example: a color value, or any yes/no values.\n",
        "\n",
        "\n",
        "**Ordinal** data are like categorical data, but can be measured up against each other. Example: school grades where A is better than B and so on.\n",
        "\n",
        "\n",
        "\n",
        "By knowing the data type of your data source, you will be able to know what technique to use when analyzing them.\n",
        "\n",
        "You will learn more about statistics and analyzing data in the next chapters.\n",
        "\n"
      ],
      "metadata": {
        "id": "pLU6Bc07z8_p"
      }
    },
    {
      "cell_type": "markdown",
      "source": [
        "# **Mean, Median, and Mode**\n",
        "\n",
        "What can we learn from looking at a group of numbers?\n",
        "\n",
        "In Machine Learning (and in mathematics) there are often three values that interests us:\n",
        "\n",
        "- **Mean** - The average value\n",
        "- **Median** - The mid point value\n",
        "- **Mode** - The most common value\n",
        "\n",
        "Example: We have registered the speed of 13 cars:\n",
        "\n"
      ],
      "metadata": {
        "id": "mGTOZdAs2Xxp"
      }
    },
    {
      "cell_type": "code",
      "execution_count": 4,
      "metadata": {
        "id": "5jaFwBGNx8YX"
      },
      "outputs": [],
      "source": [
        "speed = [99,86,87,88,111,86,103,87,94,78,77,85,86]"
      ]
    },
    {
      "cell_type": "markdown",
      "source": [
        "# Mean\n",
        "\n",
        "To calculate the mean, find the sum of all values, and divide the sum by the number of values:"
      ],
      "metadata": {
        "id": "P8S1D05A3nNK"
      }
    },
    {
      "cell_type": "code",
      "source": [
        "(99+86+87+88+111+86+103+87+94+78+77+85+86) / 13"
      ],
      "metadata": {
        "colab": {
          "base_uri": "https://localhost:8080/"
        },
        "id": "8hhNM9ti3S2X",
        "outputId": "7c4c61ae-fc1b-4130-ada6-b18365d81874"
      },
      "execution_count": 5,
      "outputs": [
        {
          "output_type": "execute_result",
          "data": {
            "text/plain": [
              "89.76923076923077"
            ]
          },
          "metadata": {},
          "execution_count": 5
        }
      ]
    },
    {
      "cell_type": "code",
      "source": [
        "# Using Numpy\n",
        "import numpy as np\n",
        "x = np.mean(speed)\n",
        "x\n"
      ],
      "metadata": {
        "colab": {
          "base_uri": "https://localhost:8080/"
        },
        "id": "zQZVAyoX4AXf",
        "outputId": "b4d377aa-5922-427a-a9e2-523ec42a38a9"
      },
      "execution_count": 6,
      "outputs": [
        {
          "output_type": "execute_result",
          "data": {
            "text/plain": [
              "89.76923076923077"
            ]
          },
          "metadata": {},
          "execution_count": 6
        }
      ]
    },
    {
      "cell_type": "markdown",
      "source": [
        "# Median\n",
        "\n",
        "The median value is the value in the middle, after you have sorted all the values:\n",
        "\n",
        "77, 78, 85, 86, 86, 86, **87**, 87, 88, 94, 99, 103, 111"
      ],
      "metadata": {
        "id": "F1DKxNmp-JTb"
      }
    },
    {
      "cell_type": "code",
      "source": [
        "# Using the NumPy median() method to find the middle value:\n",
        "y= np.median(speed)\n",
        "y"
      ],
      "metadata": {
        "colab": {
          "base_uri": "https://localhost:8080/"
        },
        "id": "nPTR-o2o85iT",
        "outputId": "54343592-8839-4525-a821-eb99ba0c5e21"
      },
      "execution_count": 7,
      "outputs": [
        {
          "output_type": "execute_result",
          "data": {
            "text/plain": [
              "87.0"
            ]
          },
          "metadata": {},
          "execution_count": 7
        }
      ]
    },
    {
      "cell_type": "markdown",
      "source": [
        "If there are two numbers in the middle, divide the sum of those numbers by two.\n",
        "\n",
        "77, 78, 85, 86, **86, 86,** 87, 87, 94, 98, 99, 103\n",
        "\n",
        "(86 + 87) / 2 = 86.5"
      ],
      "metadata": {
        "id": "W0YfM1pn-7xt"
      }
    },
    {
      "cell_type": "code",
      "source": [
        "speed2 = [99,86,87,88,86,103,87,94,78,77,85,86]\n",
        "\n",
        "x = np.median(speed2)\n",
        "x"
      ],
      "metadata": {
        "colab": {
          "base_uri": "https://localhost:8080/"
        },
        "id": "tdN-Yw-t-wks",
        "outputId": "f8948af6-b49b-446b-9050-1058d4b4b265"
      },
      "execution_count": 8,
      "outputs": [
        {
          "output_type": "execute_result",
          "data": {
            "text/plain": [
              "86.5"
            ]
          },
          "metadata": {},
          "execution_count": 8
        }
      ]
    },
    {
      "cell_type": "markdown",
      "source": [
        "# Mode\n",
        "\n",
        "The Mode value is the value that appears the most number of times:\n",
        "\n",
        "\n",
        "99, 86, 87, 88, 111, 86, 103, 87, 94, 78, 77, 85, 86 = 86\n"
      ],
      "metadata": {
        "id": "1_7lLgSn_lWa"
      }
    },
    {
      "cell_type": "code",
      "source": [
        "#  using the SciPy mode() method to find the number that appears the most:\n",
        "from scipy import stats\n",
        "x= stats.mode(speed)\n",
        "x"
      ],
      "metadata": {
        "colab": {
          "base_uri": "https://localhost:8080/"
        },
        "id": "-KQP-ysx_YT5",
        "outputId": "7e8cef63-3905-45d1-c650-34d351ab7171"
      },
      "execution_count": 9,
      "outputs": [
        {
          "output_type": "execute_result",
          "data": {
            "text/plain": [
              "ModeResult(mode=86, count=3)"
            ]
          },
          "metadata": {},
          "execution_count": 9
        }
      ]
    },
    {
      "cell_type": "markdown",
      "source": [
        "# Standard Deviation\n",
        "\n",
        "- Standard deviation is a number that describes how spread out the values are.\n",
        "\n",
        "- A low standard deviation means that most of the numbers are close to the mean (average) value.\n",
        "\n",
        "- A high standard deviation means that the values are spread out over a wider range.\n",
        "- Standard Deviation is often represented by the symbol Sigma: σ .\n",
        "\n",
        "Example:"
      ],
      "metadata": {
        "id": "nBvsJKUXBobP"
      }
    },
    {
      "cell_type": "code",
      "source": [
        "# Use the NumPy std() method to find the standard deviation:\n",
        "speed = [86,87,88,86,87,85,86]\n",
        "np.std(speed)"
      ],
      "metadata": {
        "colab": {
          "base_uri": "https://localhost:8080/"
        },
        "id": "uYIu8jqjAUgD",
        "outputId": "10afb469-ce5e-4673-da26-85cc6a0da48d"
      },
      "execution_count": 10,
      "outputs": [
        {
          "output_type": "execute_result",
          "data": {
            "text/plain": [
              "0.9035079029052513"
            ]
          },
          "metadata": {},
          "execution_count": 10
        }
      ]
    },
    {
      "cell_type": "markdown",
      "source": [
        "Meaning that most of the values are within the range of 0.9 from the mean value, which is 86.4.\n",
        "\n",
        "Let us do the same with a selection of numbers with a wider range:"
      ],
      "metadata": {
        "id": "AMSrEgQDDAGr"
      }
    },
    {
      "cell_type": "code",
      "source": [
        "speed = [32,111,138,28,59,77,97]\n",
        "np.std(speed)"
      ],
      "metadata": {
        "colab": {
          "base_uri": "https://localhost:8080/"
        },
        "id": "e375oVJyC0K0",
        "outputId": "317d49d6-e252-4337-bcec-4caa0db0541d"
      },
      "execution_count": 11,
      "outputs": [
        {
          "output_type": "execute_result",
          "data": {
            "text/plain": [
              "37.84501153334721"
            ]
          },
          "metadata": {},
          "execution_count": 11
        }
      ]
    },
    {
      "cell_type": "markdown",
      "source": [
        "Meaning that most of the values are within the range of 37.85 from the mean value, which is 77.4.\n",
        "\n",
        "As you can see, a higher standard deviation indicates that the values are spread out over a wider range."
      ],
      "metadata": {
        "id": "UY3abbnzEUOP"
      }
    },
    {
      "cell_type": "markdown",
      "source": [
        "# Variance\n",
        "\n",
        "Variance is another number that indicates how spread out the values are.\n",
        "\n",
        "In fact, if you take the square root of the variance, you get the standard deviation!\n",
        "\n",
        "Or the other way around, if you multiply the standard deviation by itself, you get the variance!\n",
        "\n",
        "Variance is often represented by the symbol Sigma Squared: σ2\n",
        "\n",
        "To calculate the variance you have to do as follows:\n",
        "\n",
        "1. Find the mean:"
      ],
      "metadata": {
        "id": "Ewwndw_iEd18"
      }
    },
    {
      "cell_type": "code",
      "source": [
        "(32+111+138+28+59+77+97) / 7"
      ],
      "metadata": {
        "colab": {
          "base_uri": "https://localhost:8080/"
        },
        "id": "UI_NEtm4DZZX",
        "outputId": "303cac45-0011-469f-b7e2-adc39d48bb25"
      },
      "execution_count": 12,
      "outputs": [
        {
          "output_type": "execute_result",
          "data": {
            "text/plain": [
              "77.42857142857143"
            ]
          },
          "metadata": {},
          "execution_count": 12
        }
      ]
    },
    {
      "cell_type": "markdown",
      "source": [
        "2. For each value: find the difference from the mean:\n"
      ],
      "metadata": {
        "id": "mKhvGU-MJj6x"
      }
    },
    {
      "cell_type": "code",
      "source": [
        "32 - 77.4 == -45.4\n",
        "111 - 77.4 ==  33.6\n",
        "138 - 77.4 ==  60.6\n",
        "28 - 77.4 == -49.4\n",
        "59 - 77.4 == -18.4\n",
        "77 - 77.4 == - 0.4\n",
        "97 - 77.4 ==  19.6"
      ],
      "metadata": {
        "id": "-JxPL8O7F7oF",
        "colab": {
          "base_uri": "https://localhost:8080/"
        },
        "outputId": "eb72dde6-b0ee-4f6e-9766-3d8f7eca106c"
      },
      "execution_count": 13,
      "outputs": [
        {
          "output_type": "execute_result",
          "data": {
            "text/plain": [
              "False"
            ]
          },
          "metadata": {},
          "execution_count": 13
        }
      ]
    },
    {
      "cell_type": "markdown",
      "source": [
        "3. For each difference: find the square value:\n",
        "\n",
        "(-45.4)2 = 2061.16 .\n",
        "\n",
        " (33.6)2 = 1128.96 .\n",
        "\n",
        " (60.6)2 = 3672.36 .\n",
        "\n",
        "(-49.4)2 = 2440.36 .\n",
        "\n",
        "(-18.4)2 =  338.56 .\n",
        "\n",
        "(- 0.4)2 =    0.16 .\n",
        "\n",
        " (19.6)2 =  384.16 .\n",
        "\n",
        " 4. The variance is the average number of these squared differences:\n",
        "\n",
        " (2061.16+1128.96+3672.36+2440.36+338.56+0.16+384.16) / 7 = 1432.2"
      ],
      "metadata": {
        "id": "K8vPXOJs_HgH"
      }
    },
    {
      "cell_type": "code",
      "source": [
        "# Use the NumPy var() method to find the variance:\n",
        "np.var(speed)"
      ],
      "metadata": {
        "id": "LZOMJAUKJ0az",
        "colab": {
          "base_uri": "https://localhost:8080/"
        },
        "outputId": "ececa905-9414-44ef-e91d-c7add16edc39"
      },
      "execution_count": 14,
      "outputs": [
        {
          "output_type": "execute_result",
          "data": {
            "text/plain": [
              "1432.2448979591834"
            ]
          },
          "metadata": {},
          "execution_count": 14
        }
      ]
    },
    {
      "cell_type": "markdown",
      "source": [
        "#  Percentiles\n",
        "\n",
        "\n",
        "Percentiles are used in statistics to give you a number that describes the value that a given percent of the values are lower than.\n",
        "\n",
        "Example: Let's say we have an array of the ages of all the people that live in a street."
      ],
      "metadata": {
        "id": "7sZjpv7eBGt-"
      }
    },
    {
      "cell_type": "code",
      "source": [
        "# Use the NumPy percentile() method to find the percentiles:\n",
        "ages = [5,31,43,48,50,41,7,11,15,39,80,82,32,2,8,6,25,36,27,61,31]\n",
        "np.percentile(ages, 75)"
      ],
      "metadata": {
        "colab": {
          "base_uri": "https://localhost:8080/"
        },
        "id": "CfdeB9uCAK9r",
        "outputId": "475b3620-68cf-4e21-a985-db4365b9666f"
      },
      "execution_count": 15,
      "outputs": [
        {
          "output_type": "execute_result",
          "data": {
            "text/plain": [
              "43.0"
            ]
          },
          "metadata": {},
          "execution_count": 15
        }
      ]
    },
    {
      "cell_type": "markdown",
      "source": [
        "The answer is 43, meaning that 75% of the people are 43 or younger."
      ],
      "metadata": {
        "id": "e_rkubhNCcKw"
      }
    },
    {
      "cell_type": "code",
      "source": [
        "# 90th percentile\n",
        "np.percentile(ages,90)"
      ],
      "metadata": {
        "colab": {
          "base_uri": "https://localhost:8080/"
        },
        "id": "aaiBdfL5CWXI",
        "outputId": "f51c1f08-6c55-4ad7-817a-dff89588bb0d"
      },
      "execution_count": 17,
      "outputs": [
        {
          "output_type": "execute_result",
          "data": {
            "text/plain": [
              "61.0"
            ]
          },
          "metadata": {},
          "execution_count": 17
        }
      ]
    },
    {
      "cell_type": "markdown",
      "source": [
        "# Data Distribution\n",
        "\n",
        "In the real world, the data sets are much bigger, but it can be difficult to gather real world data, at least at an early stage of a project.\n",
        "\n",
        "## How Can we Get Big Data Sets?\n",
        "\n",
        "To create big data sets for testing, we use the Python module NumPy, which comes with a number of methods to create random data sets, of any size."
      ],
      "metadata": {
        "id": "VJeUy0pQDZSg"
      }
    },
    {
      "cell_type": "code",
      "source": [
        "# Create an array containing 250 random floats between 0 and 5:\n",
        "data = np.random.uniform(0.0,5.0,250)\n",
        "data"
      ],
      "metadata": {
        "id": "wTZjPPW6C9k8"
      },
      "execution_count": null,
      "outputs": []
    },
    {
      "cell_type": "markdown",
      "source": [
        "# Histogram\n",
        "\n",
        "To visualize the data set we can draw a histogram with the data we collected.\n",
        "\n",
        "We will use the Python module Matplotlib to draw a histogram."
      ],
      "metadata": {
        "id": "Wf9N692GF_I4"
      }
    },
    {
      "cell_type": "code",
      "source": [
        "# Draw a histogram:\n",
        "\n",
        "import matplotlib.pyplot as plt\n",
        "# plot a histogram with 5 bars\n",
        "plt.hist(data,5)\n",
        "plt.show()\n",
        "\n"
      ],
      "metadata": {
        "colab": {
          "base_uri": "https://localhost:8080/",
          "height": 430
        },
        "id": "QylgDIruFGoK",
        "outputId": "cf0dc335-d75f-464f-f815-ccdb4694f66c"
      },
      "execution_count": 23,
      "outputs": [
        {
          "output_type": "display_data",
          "data": {
            "text/plain": [
              "<Figure size 640x480 with 1 Axes>"
            ],
            "image/png": "[encoded data removed]"
          },
          "metadata": {}
        }
      ]
    },
    {
      "cell_type": "markdown",
      "source": [
        "**N/B**: The array values are random numbers and will not show the exact same result on your computer."
      ],
      "metadata": {
        "id": "UgRNELOrIscY"
      }
    },
    {
      "cell_type": "code",
      "source": [
        "# Create an array with 100000 random numbers, and display them using a histogram with 100 bars:\n",
        "arrayy = np.random.uniform(1.0,10.0,100000)\n",
        "arrayy\n",
        "plt.hist(arrayy,100)\n",
        "plt.show()"
      ],
      "metadata": {
        "colab": {
          "base_uri": "https://localhost:8080/",
          "height": 430
        },
        "id": "TJ1j0X1BHU56",
        "outputId": "4a098a2f-97b2-47e8-ff93-454d1b2b18ab"
      },
      "execution_count": 28,
      "outputs": [
        {
          "output_type": "display_data",
          "data": {
            "text/plain": [
              "<Figure size 640x480 with 1 Axes>"
            ],
            "image/png": "[encoded data removed]"
          },
          "metadata": {}
        }
      ]
    },
    {
      "cell_type": "code",
      "source": [],
      "metadata": {
        "id": "5KZfFkKFJjdc"
      },
      "execution_count": null,
      "outputs": []
    }
  ]
}