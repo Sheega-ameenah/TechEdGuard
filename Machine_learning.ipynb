{
  "nbformat": 4,
  "nbformat_minor": 0,
  "metadata": {
    "colab": {
      "provenance": [],
      "authorship_tag": "ABX9TyMBOPixuu2KzlXoOmbSY8lI",
      "include_colab_link": true
    },
    "kernelspec": {
      "name": "python3",
      "display_name": "Python 3"
    },
    "language_info": {
      "name": "python"
    }
  },
  "cells": [
    {
      "cell_type": "markdown",
      "metadata": {
        "id": "view-in-github",
        "colab_type": "text"
      },
      "source": [
        "<a href=\"https://colab.research.google.com/github/Sheega-ameenah/TechEdGuard/blob/main/Machine_learning.ipynb\" target=\"_parent\"><img src=\"https://colab.research.google.com/assets/colab-badge.svg\" alt=\"Open In Colab\"/></a>"
      ]
    },
    {
      "cell_type": "markdown",
      "source": [
        "# **Machine Learning**\n",
        "\n",
        "- Machine Learning is making the computer learn from studying data and statistics.\n",
        "\n",
        "- Machine Learning is a step into the direction of artificial intelligence (AI).\n",
        "\n",
        "- Machine Learning is a program that analyses data and learns to predict the outcome."
      ],
      "metadata": {
        "id": "hg8qo8HXyDCa"
      }
    },
    {
      "cell_type": "markdown",
      "source": [
        "# Data Set\n",
        "\n",
        "In the mind of a computer, a data set is any collection of data. It can be anything from an array to a complete database.\n",
        "\n",
        "Machine Learning is for analyzing data and predicting the outcome!\n"
      ],
      "metadata": {
        "id": "OfCPmnKBytYJ"
      }
    },
    {
      "cell_type": "markdown",
      "source": [
        "# Data Types\n",
        "\n",
        "To analyze data, it is important to know what type of data we are dealing with.\n",
        "\n",
        "We can split the data types into three main categories:\n",
        "\n",
        "- **Numerical**\n",
        "- **Categorical**\n",
        "- **Ordinal**\n",
        "\n",
        "**Numerical** data are numbers, and can be split into two numerical categories:\n",
        "\n",
        "- Discrete Data :\n",
        "  numbers that are limited to integers. Example: The number of cars passing by.\n",
        "\n",
        "- Continuous Data: numbers that are of infinite value. Example: The price of an item, or the size of an item.\n",
        "\n",
        "\n",
        "**Categorical** data are values that cannot be measured up against each other. Example: a color value, or any yes/no values.\n",
        "\n",
        "\n",
        "**Ordinal** data are like categorical data, but can be measured up against each other. Example: school grades where A is better than B and so on.\n",
        "\n",
        "\n",
        "\n",
        "By knowing the data type of your data source, you will be able to know what technique to use when analyzing them.\n",
        "\n",
        "You will learn more about statistics and analyzing data in the next chapters.\n",
        "\n"
      ],
      "metadata": {
        "id": "pLU6Bc07z8_p"
      }
    },
    {
      "cell_type": "markdown",
      "source": [
        "# **Mean, Median, and Mode**\n",
        "\n",
        "What can we learn from looking at a group of numbers?\n",
        "\n",
        "In Machine Learning (and in mathematics) there are often three values that interests us:\n",
        "\n",
        "- **Mean** - The average value\n",
        "- **Median** - The mid point value\n",
        "- **Mode** - The most common value\n",
        "\n",
        "Example: We have registered the speed of 13 cars:\n",
        "\n"
      ],
      "metadata": {
        "id": "mGTOZdAs2Xxp"
      }
    },
    {
      "cell_type": "code",
      "execution_count": null,
      "metadata": {
        "id": "5jaFwBGNx8YX"
      },
      "outputs": [],
      "source": [
        "speed = [99,86,87,88,111,86,103,87,94,78,77,85,86]"
      ]
    },
    {
      "cell_type": "markdown",
      "source": [
        "# Mean\n",
        "\n",
        "To calculate the mean, find the sum of all values, and divide the sum by the number of values:"
      ],
      "metadata": {
        "id": "P8S1D05A3nNK"
      }
    },
    {
      "cell_type": "code",
      "source": [
        "(99+86+87+88+111+86+103+87+94+78+77+85+86) / 13"
      ],
      "metadata": {
        "colab": {
          "base_uri": "https://localhost:8080/"
        },
        "id": "8hhNM9ti3S2X",
        "outputId": "54a7590d-a46e-4f3b-c1d7-07ec7afc4034"
      },
      "execution_count": null,
      "outputs": [
        {
          "output_type": "execute_result",
          "data": {
            "text/plain": [
              "89.76923076923077"
            ]
          },
          "metadata": {},
          "execution_count": 3
        }
      ]
    },
    {
      "cell_type": "code",
      "source": [
        "# Using Numpy\n",
        "import numpy as np\n",
        "x = np.mean(speed)\n",
        "x\n"
      ],
      "metadata": {
        "colab": {
          "base_uri": "https://localhost:8080/"
        },
        "id": "zQZVAyoX4AXf",
        "outputId": "56756b5a-55f6-456b-a9f9-cfb29e3b9a69"
      },
      "execution_count": null,
      "outputs": [
        {
          "output_type": "execute_result",
          "data": {
            "text/plain": [
              "89.76923076923077"
            ]
          },
          "metadata": {},
          "execution_count": 4
        }
      ]
    },
    {
      "cell_type": "markdown",
      "source": [
        "# Median\n",
        "\n",
        "The median value is the value in the middle, after you have sorted all the values:\n",
        "\n",
        "77, 78, 85, 86, 86, 86, **87**, 87, 88, 94, 99, 103, 111"
      ],
      "metadata": {
        "id": "F1DKxNmp-JTb"
      }
    },
    {
      "cell_type": "code",
      "source": [
        "# Using the NumPy median() method to find the middle value:\n",
        "y= np.median(speed)\n",
        "y"
      ],
      "metadata": {
        "colab": {
          "base_uri": "https://localhost:8080/"
        },
        "id": "nPTR-o2o85iT",
        "outputId": "be92428b-1074-467f-ae11-03554a1b63d5"
      },
      "execution_count": null,
      "outputs": [
        {
          "output_type": "execute_result",
          "data": {
            "text/plain": [
              "87.0"
            ]
          },
          "metadata": {},
          "execution_count": 5
        }
      ]
    },
    {
      "cell_type": "markdown",
      "source": [
        "If there are two numbers in the middle, divide the sum of those numbers by two.\n",
        "\n",
        "77, 78, 85, 86, **86, 86,** 87, 87, 94, 98, 99, 103\n",
        "\n",
        "(86 + 87) / 2 = 86.5"
      ],
      "metadata": {
        "id": "W0YfM1pn-7xt"
      }
    },
    {
      "cell_type": "code",
      "source": [
        "speed2 = [99,86,87,88,86,103,87,94,78,77,85,86]\n",
        "\n",
        "x = np.median(speed2)\n",
        "x"
      ],
      "metadata": {
        "colab": {
          "base_uri": "https://localhost:8080/"
        },
        "id": "tdN-Yw-t-wks",
        "outputId": "d9cbfb67-159d-4fbd-e6f0-7c439b28315a"
      },
      "execution_count": null,
      "outputs": [
        {
          "output_type": "execute_result",
          "data": {
            "text/plain": [
              "86.5"
            ]
          },
          "metadata": {},
          "execution_count": 6
        }
      ]
    },
    {
      "cell_type": "markdown",
      "source": [
        "# Mode\n",
        "\n",
        "The Mode value is the value that appears the most number of times:\n",
        "\n",
        "\n",
        "99, 86, 87, 88, 111, 86, 103, 87, 94, 78, 77, 85, 86 = 86\n"
      ],
      "metadata": {
        "id": "1_7lLgSn_lWa"
      }
    },
    {
      "cell_type": "code",
      "source": [
        "#  using the SciPy mode() method to find the number that appears the most:\n",
        "from scipy import stats\n",
        "x= stats.mode(speed)\n",
        "x"
      ],
      "metadata": {
        "colab": {
          "base_uri": "https://localhost:8080/"
        },
        "id": "-KQP-ysx_YT5",
        "outputId": "7a6bed7f-b734-48ea-bbdb-f86ef37d6c73"
      },
      "execution_count": null,
      "outputs": [
        {
          "output_type": "execute_result",
          "data": {
            "text/plain": [
              "ModeResult(mode=86, count=3)"
            ]
          },
          "metadata": {},
          "execution_count": 7
        }
      ]
    },
    {
      "cell_type": "markdown",
      "source": [
        "# Standard Deviation\n",
        "\n",
        "- Standard deviation is a number that describes how spread out the values are.\n",
        "\n",
        "- A low standard deviation means that most of the numbers are close to the mean (average) value.\n",
        "\n",
        "- A high standard deviation means that the values are spread out over a wider range.\n",
        "- Standard Deviation is often represented by the symbol Sigma: σ .\n",
        "\n",
        "Example:"
      ],
      "metadata": {
        "id": "nBvsJKUXBobP"
      }
    },
    {
      "cell_type": "code",
      "source": [
        "# Use the NumPy std() method to find the standard deviation:\n",
        "speed = [86,87,88,86,87,85,86]\n",
        "np.std(speed)"
      ],
      "metadata": {
        "colab": {
          "base_uri": "https://localhost:8080/"
        },
        "id": "uYIu8jqjAUgD",
        "outputId": "a21acb10-cc42-4fc0-fbc8-91a9b85a4c68"
      },
      "execution_count": null,
      "outputs": [
        {
          "output_type": "execute_result",
          "data": {
            "text/plain": [
              "0.9035079029052513"
            ]
          },
          "metadata": {},
          "execution_count": 8
        }
      ]
    },
    {
      "cell_type": "markdown",
      "source": [
        "Meaning that most of the values are within the range of 0.9 from the mean value, which is 86.4.\n",
        "\n",
        "Let us do the same with a selection of numbers with a wider range:"
      ],
      "metadata": {
        "id": "AMSrEgQDDAGr"
      }
    },
    {
      "cell_type": "code",
      "source": [
        "speed = [32,111,138,28,59,77,97]\n",
        "np.std(speed)"
      ],
      "metadata": {
        "colab": {
          "base_uri": "https://localhost:8080/"
        },
        "id": "e375oVJyC0K0",
        "outputId": "0cb6f946-026f-4cf1-a583-0f439fdbc231"
      },
      "execution_count": null,
      "outputs": [
        {
          "output_type": "execute_result",
          "data": {
            "text/plain": [
              "37.84501153334721"
            ]
          },
          "metadata": {},
          "execution_count": 9
        }
      ]
    },
    {
      "cell_type": "markdown",
      "source": [
        "Meaning that most of the values are within the range of 37.85 from the mean value, which is 77.4.\n",
        "\n",
        "As you can see, a higher standard deviation indicates that the values are spread out over a wider range."
      ],
      "metadata": {
        "id": "UY3abbnzEUOP"
      }
    },
    {
      "cell_type": "markdown",
      "source": [
        "# Variance\n",
        "\n",
        "Variance is another number that indicates how spread out the values are.\n",
        "\n",
        "In fact, if you take the square root of the variance, you get the standard deviation!\n",
        "\n",
        "Or the other way around, if you multiply the standard deviation by itself, you get the variance!\n",
        "\n",
        "Variance is often represented by the symbol Sigma Squared: σ2\n",
        "\n",
        "To calculate the variance you have to do as follows:\n",
        "\n",
        "1. Find the mean:"
      ],
      "metadata": {
        "id": "Ewwndw_iEd18"
      }
    },
    {
      "cell_type": "code",
      "source": [
        "(32+111+138+28+59+77+97) / 7"
      ],
      "metadata": {
        "colab": {
          "base_uri": "https://localhost:8080/"
        },
        "id": "UI_NEtm4DZZX",
        "outputId": "21871e73-db66-483d-ce75-2b6db236e6db"
      },
      "execution_count": null,
      "outputs": [
        {
          "output_type": "execute_result",
          "data": {
            "text/plain": [
              "77.42857142857143"
            ]
          },
          "metadata": {},
          "execution_count": 10
        }
      ]
    },
    {
      "cell_type": "markdown",
      "source": [
        "2. For each value: find the difference from the mean:\n"
      ],
      "metadata": {
        "id": "mKhvGU-MJj6x"
      }
    },
    {
      "cell_type": "code",
      "source": [
        "32 - 77.4 == -45.4\n",
        "111 - 77.4 ==  33.6\n",
        "138 - 77.4 ==  60.6\n",
        "28 - 77.4 == -49.4\n",
        "59 - 77.4 == -18.4\n",
        "77 - 77.4 == - 0.4\n",
        "97 - 77.4 ==  19.6"
      ],
      "metadata": {
        "id": "-JxPL8O7F7oF",
        "colab": {
          "base_uri": "https://localhost:8080/"
        },
        "outputId": "0d08cee7-f911-44c8-c0a3-18e4d36adfa9"
      },
      "execution_count": null,
      "outputs": [
        {
          "output_type": "execute_result",
          "data": {
            "text/plain": [
              "False"
            ]
          },
          "metadata": {},
          "execution_count": 11
        }
      ]
    },
    {
      "cell_type": "markdown",
      "source": [
        "3. For each difference: find the square value:\n",
        "\n",
        "(-45.4)2 = 2061.16 .\n",
        "\n",
        " (33.6)2 = 1128.96 .\n",
        "\n",
        " (60.6)2 = 3672.36 .\n",
        "\n",
        "(-49.4)2 = 2440.36 .\n",
        "\n",
        "(-18.4)2 =  338.56 .\n",
        "\n",
        "(- 0.4)2 =    0.16 .\n",
        "\n",
        " (19.6)2 =  384.16 .\n",
        "\n",
        " 4. The variance is the average number of these squared differences:\n",
        "\n",
        " (2061.16+1128.96+3672.36+2440.36+338.56+0.16+384.16) / 7 = 1432.2"
      ],
      "metadata": {
        "id": "K8vPXOJs_HgH"
      }
    },
    {
      "cell_type": "code",
      "source": [
        "# Use the NumPy var() method to find the variance:\n",
        "np.var(speed)"
      ],
      "metadata": {
        "id": "LZOMJAUKJ0az",
        "colab": {
          "base_uri": "https://localhost:8080/"
        },
        "outputId": "4834249e-2584-4c96-bd9e-9049f4da493d"
      },
      "execution_count": null,
      "outputs": [
        {
          "output_type": "execute_result",
          "data": {
            "text/plain": [
              "1432.2448979591834"
            ]
          },
          "metadata": {},
          "execution_count": 12
        }
      ]
    },
    {
      "cell_type": "markdown",
      "source": [
        "#  Percentiles\n",
        "\n",
        "\n",
        "Percentiles are used in statistics to give you a number that describes the value that a given percent of the values are lower than.\n",
        "\n",
        "Example: Let's say we have an array of the ages of all the people that live in a street."
      ],
      "metadata": {
        "id": "7sZjpv7eBGt-"
      }
    },
    {
      "cell_type": "code",
      "source": [
        "# Use the NumPy percentile() method to find the percentiles:\n",
        "ages = [5,31,43,48,50,41,7,11,15,39,80,82,32,2,8,6,25,36,27,61,31]\n",
        "np.percentile(ages, 75)"
      ],
      "metadata": {
        "colab": {
          "base_uri": "https://localhost:8080/"
        },
        "id": "CfdeB9uCAK9r",
        "outputId": "ce83c4d1-d618-4528-b180-526a258bde76"
      },
      "execution_count": null,
      "outputs": [
        {
          "output_type": "execute_result",
          "data": {
            "text/plain": [
              "43.0"
            ]
          },
          "metadata": {},
          "execution_count": 13
        }
      ]
    },
    {
      "cell_type": "markdown",
      "source": [
        "The answer is 43, meaning that 75% of the people are 43 or younger."
      ],
      "metadata": {
        "id": "e_rkubhNCcKw"
      }
    },
    {
      "cell_type": "code",
      "source": [
        "# 90th percentile\n",
        "np.percentile(ages,90)"
      ],
      "metadata": {
        "colab": {
          "base_uri": "https://localhost:8080/"
        },
        "id": "aaiBdfL5CWXI",
        "outputId": "c641f55e-6b1a-4f26-a448-7a303a83b7f8"
      },
      "execution_count": null,
      "outputs": [
        {
          "output_type": "execute_result",
          "data": {
            "text/plain": [
              "61.0"
            ]
          },
          "metadata": {},
          "execution_count": 14
        }
      ]
    },
    {
      "cell_type": "markdown",
      "source": [
        "# Data Distribution\n",
        "\n",
        "In the real world, the data sets are much bigger, but it can be difficult to gather real world data, at least at an early stage of a project.\n",
        "\n",
        "## How Can we Get Big Data Sets?\n",
        "\n",
        "To create big data sets for testing, we use the Python module NumPy, which comes with a number of methods to create random data sets, of any size."
      ],
      "metadata": {
        "id": "VJeUy0pQDZSg"
      }
    },
    {
      "cell_type": "code",
      "source": [
        "# Create an array containing 250 random floats between 0 and 5:\n",
        "data = np.random.uniform(0.0,5.0,250)\n",
        "data"
      ],
      "metadata": {
        "colab": {
          "base_uri": "https://localhost:8080/"
        },
        "id": "wTZjPPW6C9k8",
        "outputId": "482bc905-ab65-4528-fd87-e9e66002775a"
      },
      "execution_count": null,
      "outputs": [
        {
          "output_type": "execute_result",
          "data": {
            "text/plain": [
              "array([1.93212599, 3.51034858, 4.08956391, 3.50576961, 4.81799655,\n",
              "       2.30752583, 0.01391863, 0.09411102, 3.6209733 , 1.44176513,\n",
              "       3.2551925 , 3.39671274, 3.45160661, 1.66953199, 1.95192465,\n",
              "       3.20859889, 1.59102638, 0.31765034, 4.56302676, 1.26763898,\n",
              "       3.18984974, 4.0864394 , 4.13135028, 3.42149067, 4.97479379,\n",
              "       0.82393724, 4.66285585, 3.93217551, 1.07231712, 3.4301429 ,\n",
              "       0.80057236, 4.33605241, 0.77498479, 2.34137787, 4.80491445,\n",
              "       0.60624796, 3.53671332, 0.57886753, 2.58644241, 3.52376765,\n",
              "       3.017658  , 0.68579412, 3.49142368, 0.49446373, 0.38277821,\n",
              "       2.8035426 , 0.05411977, 2.22736336, 1.08436427, 0.70427917,\n",
              "       2.43869389, 0.10806081, 1.32140166, 0.57136181, 2.78947436,\n",
              "       0.01391508, 0.78448208, 3.19344291, 0.44161667, 1.05084114,\n",
              "       3.86109787, 4.10094871, 2.70465013, 1.2044139 , 2.48355395,\n",
              "       4.02537629, 0.16652979, 4.35321948, 4.24835373, 2.11395156,\n",
              "       2.37710443, 4.13856813, 0.44880517, 4.86971205, 4.43448278,\n",
              "       3.466824  , 3.02150027, 1.79056603, 3.33305871, 2.15651012,\n",
              "       1.41170902, 2.49166396, 4.190017  , 4.51626771, 2.75832738,\n",
              "       3.89167147, 3.66406713, 1.33680949, 2.88796022, 2.34057902,\n",
              "       0.46496835, 3.69131234, 3.7439826 , 4.07569333, 4.95621517,\n",
              "       1.98094384, 0.77400202, 1.10014941, 2.40994345, 4.11257544,\n",
              "       3.32349683, 2.28243705, 1.3365951 , 1.1365437 , 1.76691875,\n",
              "       1.22053576, 2.46101855, 0.23525623, 4.46807051, 4.40805496,\n",
              "       3.67935416, 4.27307234, 3.11872725, 4.8293797 , 4.54109433,\n",
              "       1.37094282, 3.18458122, 1.19500931, 4.04508289, 4.16917503,\n",
              "       2.72061849, 2.12470539, 3.93191674, 0.10604389, 4.69617658,\n",
              "       1.9316973 , 4.0084603 , 4.14207494, 2.19037679, 3.60986215,\n",
              "       3.8592466 , 0.27476282, 3.95437686, 4.44694357, 4.74430756,\n",
              "       3.22619756, 0.9970859 , 0.29952744, 0.65104488, 2.15257562,\n",
              "       1.39450048, 3.68018359, 0.34086504, 4.24140432, 3.11359087,\n",
              "       2.70895438, 0.24127231, 4.99479552, 2.00866002, 0.80686856,\n",
              "       2.9517712 , 2.60589664, 1.26613286, 3.00935647, 4.66302221,\n",
              "       0.58521431, 1.55270243, 2.71777811, 0.90820854, 0.0361653 ,\n",
              "       2.6730418 , 1.85100119, 4.83816371, 4.0137122 , 4.39414939,\n",
              "       0.79321485, 0.86356732, 2.88173634, 3.22391542, 4.2218954 ,\n",
              "       3.55927527, 2.40289234, 4.1140624 , 1.02973444, 1.68285015,\n",
              "       4.13794529, 1.85080571, 2.54602707, 2.30519112, 3.62614804,\n",
              "       0.53411493, 0.61569756, 4.13322856, 1.88909208, 2.82199346,\n",
              "       4.12628764, 2.6159072 , 0.16900447, 0.03906843, 0.65713306,\n",
              "       1.33894905, 1.50690116, 0.48714563, 0.82955209, 0.43879158,\n",
              "       1.61249686, 1.26161747, 0.22032085, 2.20974177, 1.39857204,\n",
              "       0.5196818 , 4.54821136, 0.88109509, 1.37130233, 3.4041549 ,\n",
              "       1.22618884, 0.5424628 , 3.29050093, 3.32514133, 1.00004588,\n",
              "       0.17988369, 4.87803533, 1.90404784, 0.43126556, 1.17811981,\n",
              "       2.87109713, 0.75116037, 1.77212454, 1.42304553, 4.2972252 ,\n",
              "       3.02108752, 4.03728157, 0.09955901, 1.8782291 , 3.9424643 ,\n",
              "       0.98558649, 3.51881482, 0.83510816, 2.60217687, 2.02806836,\n",
              "       3.96212163, 0.31487077, 4.25431011, 1.49830036, 1.00587082,\n",
              "       4.90160513, 0.09071998, 3.65794236, 0.40706634, 2.20190917,\n",
              "       2.9874707 , 0.10682686, 1.17500549, 3.50514113, 3.27898714,\n",
              "       2.68165129, 0.95636949, 2.14166086, 1.06252554, 3.76927063])"
            ]
          },
          "metadata": {},
          "execution_count": 15
        }
      ]
    },
    {
      "cell_type": "markdown",
      "source": [
        "# Histogram\n",
        "\n",
        "To visualize the data set we can draw a histogram with the data we collected.\n",
        "\n",
        "We will use the Python module Matplotlib to draw a histogram."
      ],
      "metadata": {
        "id": "Wf9N692GF_I4"
      }
    },
    {
      "cell_type": "code",
      "source": [
        "# Draw a histogram:\n",
        "\n",
        "import matplotlib.pyplot as plt\n",
        "# plot a histogram with 5 bars\n",
        "plt.hist(data,5)\n",
        "plt.show()\n",
        "\n"
      ],
      "metadata": {
        "colab": {
          "base_uri": "https://localhost:8080/",
          "height": 430
        },
        "id": "QylgDIruFGoK",
        "outputId": "94b35bf2-05dd-46c5-bb02-f4480368b1bd"
      },
      "execution_count": null,
      "outputs": [
        {
          "output_type": "display_data",
          "data": {
            "text/plain": [
              "<Figure size 640x480 with 1 Axes>"
            ],
            "image/png": "[encoded data removed]"
          },
          "metadata": {}
        }
      ]
    },
    {
      "cell_type": "markdown",
      "source": [
        "**N/B**: The array values are random numbers and will not show the exact same result on your computer."
      ],
      "metadata": {
        "id": "UgRNELOrIscY"
      }
    },
    {
      "cell_type": "code",
      "source": [
        "# Create an array with 100000 random numbers, and display them using a histogram with 100 bars:\n",
        "arrayy = np.random.uniform(1.0,10.0,100000)\n",
        "arrayy\n",
        "plt.hist(arrayy,100)\n",
        "plt.show()"
      ],
      "metadata": {
        "colab": {
          "base_uri": "https://localhost:8080/",
          "height": 430
        },
        "id": "TJ1j0X1BHU56",
        "outputId": "4f80e379-9631-41d6-889d-c0c6261e7ddc"
      },
      "execution_count": null,
      "outputs": [
        {
          "output_type": "display_data",
          "data": {
            "text/plain": [
              "<Figure size 640x480 with 1 Axes>"
            ],
            "image/png": "[encoded data removed]"
          },
          "metadata": {}
        }
      ]
    },
    {
      "cell_type": "markdown",
      "source": [
        "# Normal Data Distribution\n",
        "\n",
        "We have been  creating completely random arrays, of a given size, and between two given values.\n",
        "\n",
        "Now we will create arrays where the values are concentrated around a given value.\n",
        "\n",
        "In probability theory this kind of data distribution is known as the normal data distribution, or the Gaussian data distribution, after the mathematician Carl Friedrich Gauss who came up with the formula of this data distribution.\n"
      ],
      "metadata": {
        "id": "m6XcEiPG3t-h"
      }
    },
    {
      "cell_type": "code",
      "source": [
        "# generate random values with mean 5.0 and std 1.0\n",
        "y= np.random.normal(5.0,1.0,100000)\n",
        "\n",
        "plt.hist(y,100)\n",
        "plt.show()"
      ],
      "metadata": {
        "colab": {
          "base_uri": "https://localhost:8080/",
          "height": 430
        },
        "id": "5KZfFkKFJjdc",
        "outputId": "be17256e-431d-4a34-84a8-a87351195c69"
      },
      "execution_count": null,
      "outputs": [
        {
          "output_type": "display_data",
          "data": {
            "text/plain": [
              "<Figure size 640x480 with 1 Axes>"
            ],
            "image/png": "[encoded data removed]"
          },
          "metadata": {}
        }
      ]
    },
    {
      "cell_type": "markdown",
      "source": [
        "**Note**: A normal distribution graph is also known as the bell curve because of it's characteristic shape of a bell.\n",
        "\n",
        "In the histogram above We use the array from the numpy.random.normal() method, with 100000 values,  to draw a histogram with 100 bars.\n",
        "\n",
        "We specify that the mean value is 5.0, and the standard deviation is 1.0.\n",
        "\n",
        "Meaning that the values should be concentrated around 5.0, and rarely further away than 1.0 from the mean.\n",
        "\n",
        "And as you can see from the histogram, most values are between 4.0 and 6.0, with a top at approximately 5.0.\n",
        "\n"
      ],
      "metadata": {
        "id": "XOPpSPjB5YMv"
      }
    },
    {
      "cell_type": "markdown",
      "source": [
        "# Scatter Plot\n",
        "A scatter plot is a diagram where each value in the data set is represented by a dot.\n",
        "\n",
        "The Matplotlib module has a method for drawing scatter plots, it needs two arrays of the same length, one for the values of the x-axis, and one for the values of the y-axis:"
      ],
      "metadata": {
        "id": "Txhoh7Xr6Emj"
      }
    },
    {
      "cell_type": "code",
      "source": [
        "# Using the scatter() method to draw a scatter plot diagram:\n",
        "age_of_car= [5,7,8,7,2,17,2,9,4,11,12,9,6]\n",
        "speed_of_car = [99,86,87,88,111,86,103,87,94,78,77,85,86]\n",
        "plt.scatter(age_of_car,speed_of_car)\n",
        "plt.show()"
      ],
      "metadata": {
        "colab": {
          "base_uri": "https://localhost:8080/",
          "height": 430
        },
        "id": "LlU1hQlO5TbO",
        "outputId": "8008af56-6eb5-4778-cca5-a1203235eee6"
      },
      "execution_count": null,
      "outputs": [
        {
          "output_type": "display_data",
          "data": {
            "text/plain": [
              "<Figure size 640x480 with 1 Axes>"
            ],
            "image/png": "[encoded data removed]"
          },
          "metadata": {}
        }
      ]
    },
    {
      "cell_type": "markdown",
      "source": [
        "**Scatter Plot Explained**\n",
        "\n",
        "\n",
        "The x-axis represents ages, and the y-axis represents speeds.\n",
        "\n",
        "What we can read from the diagram is that the two fastest cars were both 2 years old, and the slowest car was 12 years old."
      ],
      "metadata": {
        "id": "NmnxRrdi7Zr5"
      }
    },
    {
      "cell_type": "markdown",
      "source": [
        "# Linear Regression\n",
        "\n",
        "The term regression is used when you try to find the relationship between variables.\n",
        "\n",
        "In Machine Learning, and in statistical modeling, that relationship is used to predict the outcome of future events.\n",
        "\n",
        "\n",
        "Linear regression uses the relationship between the data-points to draw a straight line through all them.\n",
        "\n",
        "This line can be used to predict future values.\n",
        "\n",
        "In Machine Learning, predicting the future is very important.\n",
        "\n",
        "**How Does it Work?**\n",
        "\n",
        "\n",
        "Python has methods for finding a relationship between data-points and to draw a line of linear regression.\n",
        "\n",
        "In the example below, the x-axis represents age, and the y-axis represents speed. We have registered the age and speed of 13 cars as they were passing a tollbooth. Let us see if the data we collected could be used in a linear regression:\n",
        "\n",
        "\n"
      ],
      "metadata": {
        "id": "nnkv6U0H8PTQ"
      }
    },
    {
      "cell_type": "code",
      "source": [
        "# First start by drawing a scatter plot\n",
        "age_of_car= [5,7,8,7,2,17,2,9,4,11,12,9,6]\n",
        "speed_of_car = [99,86,87,88,111,86,103,87,94,78,77,85,86]\n",
        "plt.scatter(age_of_car,speed_of_car)\n",
        "plt.show()"
      ],
      "metadata": {
        "colab": {
          "base_uri": "https://localhost:8080/",
          "height": 430
        },
        "id": "uwlr5yAS7TcV",
        "outputId": "d7c19e3c-903f-49d4-8bf2-dafae26e63c9"
      },
      "execution_count": null,
      "outputs": [
        {
          "output_type": "display_data",
          "data": {
            "text/plain": [
              "<Figure size 640x480 with 1 Axes>"
            ],
            "image/png": "[encoded data removed]"
          },
          "metadata": {}
        }
      ]
    },
    {
      "cell_type": "code",
      "source": [
        "# Import scipy and draw the line of Linear Regression:\n",
        "from scipy import stats\n",
        "# Execute a method that returns some important key values of Linear Regression:\n",
        "slope, intercept,r,p,std_err = stats.linregress(age_of_car,speed_of_car)\n",
        "\n",
        "''' Create a function that uses the slope and intercept values to return a new value.\n",
        "This new value represents where on the y-axis the corresponding x value will be placed:'''\n",
        "\n",
        "def myfunc(age_of_car):\n",
        "  return slope * age_of_car + intercept\n",
        "\n",
        "''' Run each value of the x array through the function.\n",
        " This will result in a new array with new values for the y-axis: '''\n",
        "\n",
        "mymodel = list(map(myfunc, age_of_car))\n",
        "\n",
        "# Draw the original scatter plot:\n",
        "plt.scatter(age_of_car,speed_of_car)\n",
        "\n",
        "#  Draw the line of linear regression:\n",
        "plt.plot(age_of_car,mymodel)\n",
        "\n",
        "# Display the diagram:\n",
        "plt.show()"
      ],
      "metadata": {
        "colab": {
          "base_uri": "https://localhost:8080/",
          "height": 430
        },
        "id": "pG4G-UNI-lA9",
        "outputId": "89fa11f6-2cca-467a-e0fc-cb85c498a084"
      },
      "execution_count": null,
      "outputs": [
        {
          "output_type": "display_data",
          "data": {
            "text/plain": [
              "<Figure size 640x480 with 1 Axes>"
            ],
            "image/png": "[encoded data removed]"
          },
          "metadata": {}
        }
      ]
    },
    {
      "cell_type": "markdown",
      "source": [
        "## R for Relationship\n",
        "\n",
        "\n",
        "It is important to know how the relationship between the values of the x-axis and the values of the y-axis is, if there are no relationship the linear regression can not be used to predict anything.\n",
        "\n",
        "This relationship - the coefficient of correlation - is called r.\n",
        "\n",
        "The r value ranges from -1 to 1, where 0 means no relationship, and 1 (and -1) means 100% related.\n",
        "\n",
        "Python and the Scipy module will compute this value for you, all you have to do is feed it with the x and y values."
      ],
      "metadata": {
        "id": "-G1oUzhIF-og"
      }
    },
    {
      "cell_type": "code",
      "source": [
        "# How well does my data fit in a linear regression?\n",
        "\n",
        "x = [5,7,8,7,2,17,2,9,4,11,12,9,6]\n",
        "y = [99,86,87,88,111,86,103,87,94,78,77,85,86]\n",
        "\n",
        "slope,intercept,r,p,std_err = stats.linregress(x,y)\n",
        "\n",
        "r"
      ],
      "metadata": {
        "colab": {
          "base_uri": "https://localhost:8080/"
        },
        "id": "0kIE0uh7Bmo0",
        "outputId": "5f7f6f74-c266-4134-84e6-924c16cbbe7d"
      },
      "execution_count": null,
      "outputs": [
        {
          "output_type": "execute_result",
          "data": {
            "text/plain": [
              "-0.758591524376155"
            ]
          },
          "metadata": {},
          "execution_count": 25
        }
      ]
    },
    {
      "cell_type": "markdown",
      "source": [
        "**Note**: The result -0.759 shows that there is a relationship, not perfect, but it indicates that we could use linear regression in future predictions."
      ],
      "metadata": {
        "id": "2ARNIwyEGxQ-"
      }
    },
    {
      "cell_type": "markdown",
      "source": [
        "# Predict Future Values\n",
        "\n",
        "Now we can use the information we have gathered to predict future values.\n",
        "\n",
        "Example: Let us try to predict the speed of a 10 years old car."
      ],
      "metadata": {
        "id": "94mV_bSrHAnZ"
      }
    },
    {
      "cell_type": "code",
      "source": [
        "the_speed = myfunc(10)\n",
        "\n",
        "the_speed"
      ],
      "metadata": {
        "colab": {
          "base_uri": "https://localhost:8080/"
        },
        "id": "jBmwVdVVGhAm",
        "outputId": "3d10c775-1f87-4c93-cf2f-bcd2c61d1fab"
      },
      "execution_count": null,
      "outputs": [
        {
          "output_type": "execute_result",
          "data": {
            "text/plain": [
              "85.59308314937454"
            ]
          },
          "metadata": {},
          "execution_count": 26
        }
      ]
    },
    {
      "cell_type": "markdown",
      "source": [
        "## Bad fit\n",
        "\n",
        "There are cases where where linear regression would not be the best method to predict future values.\n",
        "\n"
      ],
      "metadata": {
        "id": "0BiVMYRaKJEN"
      }
    },
    {
      "cell_type": "code",
      "source": [
        "x = [89,43,36,36,95,10,66,34,38,20,26,29,48,64,6,5,36,66,72,40]\n",
        "y = [21,46,3,35,67,95,53,72,58,10,26,34,90,33,38,20,56,2,47,15]\n",
        "\n",
        "slope, intercept, r, p, std_err = stats.linregress(x, y)\n",
        "print('Relationship', r)\n",
        "\n",
        "def myfunc(x):\n",
        "  return slope * x + intercept\n",
        "\n",
        "mymodel = list(map(myfunc, x))\n",
        "\n",
        "plt.scatter(x, y)\n",
        "plt.plot(x, mymodel)\n",
        "plt.show()\n",
        "\n",
        "\n",
        "\n"
      ],
      "metadata": {
        "id": "ggDFTk31JzRx",
        "colab": {
          "base_uri": "https://localhost:8080/",
          "height": 447
        },
        "outputId": "7b450ad9-2404-4b96-c755-a0510eda8df1"
      },
      "execution_count": 29,
      "outputs": [
        {
          "output_type": "stream",
          "name": "stdout",
          "text": [
            "Relationship 0.01331814154297491\n"
          ]
        },
        {
          "output_type": "display_data",
          "data": {
            "text/plain": [
              "<Figure size 640x480 with 1 Axes>"
            ],
            "image/png": "[encoded data removed]"
          },
          "metadata": {}
        }
      ]
    },
    {
      "cell_type": "code",
      "source": [
        "r"
      ],
      "metadata": {
        "colab": {
          "base_uri": "https://localhost:8080/"
        },
        "id": "hPiOyTyqMprN",
        "outputId": "0ddf2b64-435e-4437-e44b-da3726723cc4"
      },
      "execution_count": 28,
      "outputs": [
        {
          "output_type": "execute_result",
          "data": {
            "text/plain": [
              "0.01331814154297491"
            ]
          },
          "metadata": {},
          "execution_count": 28
        }
      ]
    },
    {
      "cell_type": "code",
      "source": [],
      "metadata": {
        "id": "pNoXa82nMwhe"
      },
      "execution_count": null,
      "outputs": []
    }
  ]
}